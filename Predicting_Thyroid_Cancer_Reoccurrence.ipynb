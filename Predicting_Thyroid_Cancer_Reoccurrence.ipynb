{
  "cells": [
    {
      "cell_type": "code",
      "execution_count": 1,
      "id": "37ce6ead",
      "metadata": {
        "_cell_guid": "b1076dfc-b9ad-4769-8c92-a6c4dae69d19",
        "_uuid": "8f2839f25d086af736a60e9eeb907d3b93b6e0e5",
        "execution": {
          "iopub.execute_input": "2024-05-25T00:52:39.906561Z",
          "iopub.status.busy": "2024-05-25T00:52:39.906208Z",
          "iopub.status.idle": "2024-05-25T00:52:40.749173Z",
          "shell.execute_reply": "2024-05-25T00:52:40.748060Z"
        },
        "papermill": {
          "duration": 0.853242,
          "end_time": "2024-05-25T00:52:40.752509",
          "exception": false,
          "start_time": "2024-05-25T00:52:39.899267",
          "status": "completed"
        },
        "tags": [],
        "id": "37ce6ead"
      },
      "outputs": [],
      "source": [
        "\n",
        "import numpy as np # linear algebra\n",
        "import pandas as pd # data processing, CSV file I/O (e.g. pd.read_csv)\n",
        "import os\n",
        "for dirname, _, filenames in os.walk('/kaggle/input'):\n",
        "    for filename in filenames:\n",
        "        print(os.path.join(dirname, filename))"
      ]
    },
    {
      "cell_type": "code",
      "execution_count": 3,
      "id": "583fef12",
      "metadata": {
        "execution": {
          "iopub.execute_input": "2024-05-25T00:52:40.764628Z",
          "iopub.status.busy": "2024-05-25T00:52:40.763723Z",
          "iopub.status.idle": "2024-05-25T00:52:43.923162Z",
          "shell.execute_reply": "2024-05-25T00:52:43.922044Z"
        },
        "papermill": {
          "duration": 3.168598,
          "end_time": "2024-05-25T00:52:43.926328",
          "exception": false,
          "start_time": "2024-05-25T00:52:40.757730",
          "status": "completed"
        },
        "tags": [],
        "id": "583fef12"
      },
      "outputs": [],
      "source": [
        "import numpy as np\n",
        "import pandas as pd\n",
        "import statsmodels.api as sm\n",
        "import matplotlib.pyplot as plt\n",
        "from sklearn.model_selection import train_test_split\n",
        "from sklearn.tree import DecisionTreeClassifier\n",
        "from sklearn.tree import plot_tree\n",
        "from sklearn.tree import export_graphviz\n",
        "from sklearn.tree import export_text\n",
        "from sklearn.model_selection import GridSearchCV\n",
        "from sklearn.compose import ColumnTransformer\n",
        "from sklearn.preprocessing import OneHotEncoder\n",
        "from sklearn.metrics import accuracy_score\n",
        "from sklearn.metrics import confusion_matrix\n",
        "from scipy.stats import randint\n",
        "from sklearn.ensemble import RandomForestClassifier\n",
        "from sklearn.metrics import accuracy_score, confusion_matrix, precision_score, recall_score, ConfusionMatrixDisplay, classification_report\n",
        "from sklearn.model_selection import RandomizedSearchCV, train_test_split\n",
        "from sklearn.preprocessing import LabelEncoder, MinMaxScaler\n",
        "import warnings\n",
        "warnings.filterwarnings('once')"
      ]
    },
    {
      "cell_type": "code",
      "execution_count": 5,
      "id": "2a687cb5",
      "metadata": {
        "execution": {
          "iopub.execute_input": "2024-05-25T00:52:43.938119Z",
          "iopub.status.busy": "2024-05-25T00:52:43.937238Z",
          "iopub.status.idle": "2024-05-25T00:52:43.957274Z",
          "shell.execute_reply": "2024-05-25T00:52:43.956193Z"
        },
        "papermill": {
          "duration": 0.028753,
          "end_time": "2024-05-25T00:52:43.959892",
          "exception": false,
          "start_time": "2024-05-25T00:52:43.931139",
          "status": "completed"
        },
        "tags": [],
        "id": "2a687cb5"
      },
      "outputs": [],
      "source": [
        "# Raad the Data\n",
        "data = pd.read_csv(\"Thyroid_Diff.csv\")"
      ]
    },
    {
      "cell_type": "code",
      "execution_count": 6,
      "id": "767bca3f",
      "metadata": {
        "execution": {
          "iopub.execute_input": "2024-05-25T00:52:43.971028Z",
          "iopub.status.busy": "2024-05-25T00:52:43.970622Z",
          "iopub.status.idle": "2024-05-25T00:52:44.003068Z",
          "shell.execute_reply": "2024-05-25T00:52:44.001503Z"
        },
        "papermill": {
          "duration": 0.040747,
          "end_time": "2024-05-25T00:52:44.005497",
          "exception": false,
          "start_time": "2024-05-25T00:52:43.964750",
          "status": "completed"
        },
        "tags": [],
        "colab": {
          "base_uri": "https://localhost:8080/"
        },
        "id": "767bca3f",
        "outputId": "51b796de-2b95-43e8-cbb3-71bcdc5e25c5"
      },
      "outputs": [
        {
          "output_type": "stream",
          "name": "stdout",
          "text": [
            "<class 'pandas.core.frame.DataFrame'>\n",
            "RangeIndex: 383 entries, 0 to 382\n",
            "Data columns (total 17 columns):\n",
            " #   Column                Non-Null Count  Dtype \n",
            "---  ------                --------------  ----- \n",
            " 0   Age                   383 non-null    int64 \n",
            " 1   Gender                383 non-null    object\n",
            " 2   Smoking               383 non-null    object\n",
            " 3   Hx Smoking            383 non-null    object\n",
            " 4   Hx Radiothreapy       383 non-null    object\n",
            " 5   Thyroid Function      383 non-null    object\n",
            " 6   Physical Examination  383 non-null    object\n",
            " 7   Adenopathy            383 non-null    object\n",
            " 8   Pathology             383 non-null    object\n",
            " 9   Focality              383 non-null    object\n",
            " 10  Risk                  383 non-null    object\n",
            " 11  T                     383 non-null    object\n",
            " 12  N                     383 non-null    object\n",
            " 13  M                     383 non-null    object\n",
            " 14  Stage                 383 non-null    object\n",
            " 15  Response              383 non-null    object\n",
            " 16  Recurred              383 non-null    object\n",
            "dtypes: int64(1), object(16)\n",
            "memory usage: 51.0+ KB\n"
          ]
        }
      ],
      "source": [
        "data.info()"
      ]
    },
    {
      "cell_type": "code",
      "execution_count": 7,
      "id": "92215534",
      "metadata": {
        "execution": {
          "iopub.execute_input": "2024-05-25T00:52:44.017234Z",
          "iopub.status.busy": "2024-05-25T00:52:44.016613Z",
          "iopub.status.idle": "2024-05-25T00:52:44.026083Z",
          "shell.execute_reply": "2024-05-25T00:52:44.024943Z"
        },
        "papermill": {
          "duration": 0.018173,
          "end_time": "2024-05-25T00:52:44.028497",
          "exception": false,
          "start_time": "2024-05-25T00:52:44.010324",
          "status": "completed"
        },
        "tags": [],
        "colab": {
          "base_uri": "https://localhost:8080/"
        },
        "id": "92215534",
        "outputId": "94d14a27-d89f-4292-c204-311815709c33"
      },
      "outputs": [
        {
          "output_type": "execute_result",
          "data": {
            "text/plain": [
              "Age                     0\n",
              "Gender                  0\n",
              "Smoking                 0\n",
              "Hx Smoking              0\n",
              "Hx Radiothreapy         0\n",
              "Thyroid Function        0\n",
              "Physical Examination    0\n",
              "Adenopathy              0\n",
              "Pathology               0\n",
              "Focality                0\n",
              "Risk                    0\n",
              "T                       0\n",
              "N                       0\n",
              "M                       0\n",
              "Stage                   0\n",
              "Response                0\n",
              "Recurred                0\n",
              "dtype: int64"
            ]
          },
          "metadata": {},
          "execution_count": 7
        }
      ],
      "source": [
        "data.isna().sum()"
      ]
    },
    {
      "cell_type": "code",
      "execution_count": 8,
      "id": "d6f4e8f8",
      "metadata": {
        "execution": {
          "iopub.execute_input": "2024-05-25T00:52:44.040300Z",
          "iopub.status.busy": "2024-05-25T00:52:44.039918Z",
          "iopub.status.idle": "2024-05-25T00:52:44.078217Z",
          "shell.execute_reply": "2024-05-25T00:52:44.077102Z"
        },
        "papermill": {
          "duration": 0.046713,
          "end_time": "2024-05-25T00:52:44.080529",
          "exception": false,
          "start_time": "2024-05-25T00:52:44.033816",
          "status": "completed"
        },
        "tags": [],
        "colab": {
          "base_uri": "https://localhost:8080/",
          "height": 473
        },
        "id": "d6f4e8f8",
        "outputId": "1a66ba90-902d-4ac4-fdfe-9bd8c5c5736d"
      },
      "outputs": [
        {
          "output_type": "stream",
          "name": "stderr",
          "text": [
            "<frozen importlib._bootstrap>:914: ImportWarning: _PyDrive2ImportHook.find_spec() not found; falling back to find_module()\n",
            "<frozen importlib._bootstrap>:914: ImportWarning: _PyDriveImportHook.find_spec() not found; falling back to find_module()\n",
            "<frozen importlib._bootstrap>:914: ImportWarning: _GenerativeAIImportHook.find_spec() not found; falling back to find_module()\n",
            "<frozen importlib._bootstrap>:914: ImportWarning: _OpenCVImportHook.find_spec() not found; falling back to find_module()\n",
            "<frozen importlib._bootstrap>:914: ImportWarning: APICoreClientInfoImportHook.find_spec() not found; falling back to find_module()\n",
            "<frozen importlib._bootstrap>:914: ImportWarning: _BokehImportHook.find_spec() not found; falling back to find_module()\n",
            "<frozen importlib._bootstrap>:914: ImportWarning: _AltairImportHook.find_spec() not found; falling back to find_module()\n",
            "<frozen importlib._bootstrap>:914: ImportWarning: _PyDrive2ImportHook.find_spec() not found; falling back to find_module()\n",
            "<frozen importlib._bootstrap>:914: ImportWarning: _PyDriveImportHook.find_spec() not found; falling back to find_module()\n",
            "<frozen importlib._bootstrap>:914: ImportWarning: _GenerativeAIImportHook.find_spec() not found; falling back to find_module()\n",
            "<frozen importlib._bootstrap>:914: ImportWarning: _OpenCVImportHook.find_spec() not found; falling back to find_module()\n",
            "<frozen importlib._bootstrap>:914: ImportWarning: APICoreClientInfoImportHook.find_spec() not found; falling back to find_module()\n",
            "<frozen importlib._bootstrap>:914: ImportWarning: _BokehImportHook.find_spec() not found; falling back to find_module()\n",
            "<frozen importlib._bootstrap>:914: ImportWarning: _AltairImportHook.find_spec() not found; falling back to find_module()\n"
          ]
        },
        {
          "output_type": "execute_result",
          "data": {
            "text/plain": [
              "       Gender Smoking Hx Smoking Hx Radiothreapy Thyroid Function  \\\n",
              "count     383     383        383             383              383   \n",
              "unique      2       2          2               2                5   \n",
              "top         F      No         No              No        Euthyroid   \n",
              "freq      312     334        355             376              332   \n",
              "\n",
              "       Physical Examination Adenopathy  Pathology   Focality Risk    T    N  \\\n",
              "count                   383        383        383        383  383  383  383   \n",
              "unique                    5          6          4          2    3    7    3   \n",
              "top     Multinodular goiter         No  Papillary  Uni-Focal  Low   T2   N0   \n",
              "freq                    140        277        287        247  249  151  268   \n",
              "\n",
              "          M Stage   Response Recurred  \n",
              "count   383   383        383      383  \n",
              "unique    2     5          4        2  \n",
              "top      M0     I  Excellent       No  \n",
              "freq    365   333        208      275  "
            ],
            "text/html": [
              "\n",
              "  <div id=\"df-7b10cd01-f782-4f0a-ab0e-fdac61db7a63\" class=\"colab-df-container\">\n",
              "    <div>\n",
              "<style scoped>\n",
              "    .dataframe tbody tr th:only-of-type {\n",
              "        vertical-align: middle;\n",
              "    }\n",
              "\n",
              "    .dataframe tbody tr th {\n",
              "        vertical-align: top;\n",
              "    }\n",
              "\n",
              "    .dataframe thead th {\n",
              "        text-align: right;\n",
              "    }\n",
              "</style>\n",
              "<table border=\"1\" class=\"dataframe\">\n",
              "  <thead>\n",
              "    <tr style=\"text-align: right;\">\n",
              "      <th></th>\n",
              "      <th>Gender</th>\n",
              "      <th>Smoking</th>\n",
              "      <th>Hx Smoking</th>\n",
              "      <th>Hx Radiothreapy</th>\n",
              "      <th>Thyroid Function</th>\n",
              "      <th>Physical Examination</th>\n",
              "      <th>Adenopathy</th>\n",
              "      <th>Pathology</th>\n",
              "      <th>Focality</th>\n",
              "      <th>Risk</th>\n",
              "      <th>T</th>\n",
              "      <th>N</th>\n",
              "      <th>M</th>\n",
              "      <th>Stage</th>\n",
              "      <th>Response</th>\n",
              "      <th>Recurred</th>\n",
              "    </tr>\n",
              "  </thead>\n",
              "  <tbody>\n",
              "    <tr>\n",
              "      <th>count</th>\n",
              "      <td>383</td>\n",
              "      <td>383</td>\n",
              "      <td>383</td>\n",
              "      <td>383</td>\n",
              "      <td>383</td>\n",
              "      <td>383</td>\n",
              "      <td>383</td>\n",
              "      <td>383</td>\n",
              "      <td>383</td>\n",
              "      <td>383</td>\n",
              "      <td>383</td>\n",
              "      <td>383</td>\n",
              "      <td>383</td>\n",
              "      <td>383</td>\n",
              "      <td>383</td>\n",
              "      <td>383</td>\n",
              "    </tr>\n",
              "    <tr>\n",
              "      <th>unique</th>\n",
              "      <td>2</td>\n",
              "      <td>2</td>\n",
              "      <td>2</td>\n",
              "      <td>2</td>\n",
              "      <td>5</td>\n",
              "      <td>5</td>\n",
              "      <td>6</td>\n",
              "      <td>4</td>\n",
              "      <td>2</td>\n",
              "      <td>3</td>\n",
              "      <td>7</td>\n",
              "      <td>3</td>\n",
              "      <td>2</td>\n",
              "      <td>5</td>\n",
              "      <td>4</td>\n",
              "      <td>2</td>\n",
              "    </tr>\n",
              "    <tr>\n",
              "      <th>top</th>\n",
              "      <td>F</td>\n",
              "      <td>No</td>\n",
              "      <td>No</td>\n",
              "      <td>No</td>\n",
              "      <td>Euthyroid</td>\n",
              "      <td>Multinodular goiter</td>\n",
              "      <td>No</td>\n",
              "      <td>Papillary</td>\n",
              "      <td>Uni-Focal</td>\n",
              "      <td>Low</td>\n",
              "      <td>T2</td>\n",
              "      <td>N0</td>\n",
              "      <td>M0</td>\n",
              "      <td>I</td>\n",
              "      <td>Excellent</td>\n",
              "      <td>No</td>\n",
              "    </tr>\n",
              "    <tr>\n",
              "      <th>freq</th>\n",
              "      <td>312</td>\n",
              "      <td>334</td>\n",
              "      <td>355</td>\n",
              "      <td>376</td>\n",
              "      <td>332</td>\n",
              "      <td>140</td>\n",
              "      <td>277</td>\n",
              "      <td>287</td>\n",
              "      <td>247</td>\n",
              "      <td>249</td>\n",
              "      <td>151</td>\n",
              "      <td>268</td>\n",
              "      <td>365</td>\n",
              "      <td>333</td>\n",
              "      <td>208</td>\n",
              "      <td>275</td>\n",
              "    </tr>\n",
              "  </tbody>\n",
              "</table>\n",
              "</div>\n",
              "    <div class=\"colab-df-buttons\">\n",
              "\n",
              "  <div class=\"colab-df-container\">\n",
              "    <button class=\"colab-df-convert\" onclick=\"convertToInteractive('df-7b10cd01-f782-4f0a-ab0e-fdac61db7a63')\"\n",
              "            title=\"Convert this dataframe to an interactive table.\"\n",
              "            style=\"display:none;\">\n",
              "\n",
              "  <svg xmlns=\"http://www.w3.org/2000/svg\" height=\"24px\" viewBox=\"0 -960 960 960\">\n",
              "    <path d=\"M120-120v-720h720v720H120Zm60-500h600v-160H180v160Zm220 220h160v-160H400v160Zm0 220h160v-160H400v160ZM180-400h160v-160H180v160Zm440 0h160v-160H620v160ZM180-180h160v-160H180v160Zm440 0h160v-160H620v160Z\"/>\n",
              "  </svg>\n",
              "    </button>\n",
              "\n",
              "  <style>\n",
              "    .colab-df-container {\n",
              "      display:flex;\n",
              "      gap: 12px;\n",
              "    }\n",
              "\n",
              "    .colab-df-convert {\n",
              "      background-color: #E8F0FE;\n",
              "      border: none;\n",
              "      border-radius: 50%;\n",
              "      cursor: pointer;\n",
              "      display: none;\n",
              "      fill: #1967D2;\n",
              "      height: 32px;\n",
              "      padding: 0 0 0 0;\n",
              "      width: 32px;\n",
              "    }\n",
              "\n",
              "    .colab-df-convert:hover {\n",
              "      background-color: #E2EBFA;\n",
              "      box-shadow: 0px 1px 2px rgba(60, 64, 67, 0.3), 0px 1px 3px 1px rgba(60, 64, 67, 0.15);\n",
              "      fill: #174EA6;\n",
              "    }\n",
              "\n",
              "    .colab-df-buttons div {\n",
              "      margin-bottom: 4px;\n",
              "    }\n",
              "\n",
              "    [theme=dark] .colab-df-convert {\n",
              "      background-color: #3B4455;\n",
              "      fill: #D2E3FC;\n",
              "    }\n",
              "\n",
              "    [theme=dark] .colab-df-convert:hover {\n",
              "      background-color: #434B5C;\n",
              "      box-shadow: 0px 1px 3px 1px rgba(0, 0, 0, 0.15);\n",
              "      filter: drop-shadow(0px 1px 2px rgba(0, 0, 0, 0.3));\n",
              "      fill: #FFFFFF;\n",
              "    }\n",
              "  </style>\n",
              "\n",
              "    <script>\n",
              "      const buttonEl =\n",
              "        document.querySelector('#df-7b10cd01-f782-4f0a-ab0e-fdac61db7a63 button.colab-df-convert');\n",
              "      buttonEl.style.display =\n",
              "        google.colab.kernel.accessAllowed ? 'block' : 'none';\n",
              "\n",
              "      async function convertToInteractive(key) {\n",
              "        const element = document.querySelector('#df-7b10cd01-f782-4f0a-ab0e-fdac61db7a63');\n",
              "        const dataTable =\n",
              "          await google.colab.kernel.invokeFunction('convertToInteractive',\n",
              "                                                    [key], {});\n",
              "        if (!dataTable) return;\n",
              "\n",
              "        const docLinkHtml = 'Like what you see? Visit the ' +\n",
              "          '<a target=\"_blank\" href=https://colab.research.google.com/notebooks/data_table.ipynb>data table notebook</a>'\n",
              "          + ' to learn more about interactive tables.';\n",
              "        element.innerHTML = '';\n",
              "        dataTable['output_type'] = 'display_data';\n",
              "        await google.colab.output.renderOutput(dataTable, element);\n",
              "        const docLink = document.createElement('div');\n",
              "        docLink.innerHTML = docLinkHtml;\n",
              "        element.appendChild(docLink);\n",
              "      }\n",
              "    </script>\n",
              "  </div>\n",
              "\n",
              "\n",
              "<div id=\"df-8db4115c-33bd-46e9-8f22-4e44a9ca2bd7\">\n",
              "  <button class=\"colab-df-quickchart\" onclick=\"quickchart('df-8db4115c-33bd-46e9-8f22-4e44a9ca2bd7')\"\n",
              "            title=\"Suggest charts\"\n",
              "            style=\"display:none;\">\n",
              "\n",
              "<svg xmlns=\"http://www.w3.org/2000/svg\" height=\"24px\"viewBox=\"0 0 24 24\"\n",
              "     width=\"24px\">\n",
              "    <g>\n",
              "        <path d=\"M19 3H5c-1.1 0-2 .9-2 2v14c0 1.1.9 2 2 2h14c1.1 0 2-.9 2-2V5c0-1.1-.9-2-2-2zM9 17H7v-7h2v7zm4 0h-2V7h2v10zm4 0h-2v-4h2v4z\"/>\n",
              "    </g>\n",
              "</svg>\n",
              "  </button>\n",
              "\n",
              "<style>\n",
              "  .colab-df-quickchart {\n",
              "      --bg-color: #E8F0FE;\n",
              "      --fill-color: #1967D2;\n",
              "      --hover-bg-color: #E2EBFA;\n",
              "      --hover-fill-color: #174EA6;\n",
              "      --disabled-fill-color: #AAA;\n",
              "      --disabled-bg-color: #DDD;\n",
              "  }\n",
              "\n",
              "  [theme=dark] .colab-df-quickchart {\n",
              "      --bg-color: #3B4455;\n",
              "      --fill-color: #D2E3FC;\n",
              "      --hover-bg-color: #434B5C;\n",
              "      --hover-fill-color: #FFFFFF;\n",
              "      --disabled-bg-color: #3B4455;\n",
              "      --disabled-fill-color: #666;\n",
              "  }\n",
              "\n",
              "  .colab-df-quickchart {\n",
              "    background-color: var(--bg-color);\n",
              "    border: none;\n",
              "    border-radius: 50%;\n",
              "    cursor: pointer;\n",
              "    display: none;\n",
              "    fill: var(--fill-color);\n",
              "    height: 32px;\n",
              "    padding: 0;\n",
              "    width: 32px;\n",
              "  }\n",
              "\n",
              "  .colab-df-quickchart:hover {\n",
              "    background-color: var(--hover-bg-color);\n",
              "    box-shadow: 0 1px 2px rgba(60, 64, 67, 0.3), 0 1px 3px 1px rgba(60, 64, 67, 0.15);\n",
              "    fill: var(--button-hover-fill-color);\n",
              "  }\n",
              "\n",
              "  .colab-df-quickchart-complete:disabled,\n",
              "  .colab-df-quickchart-complete:disabled:hover {\n",
              "    background-color: var(--disabled-bg-color);\n",
              "    fill: var(--disabled-fill-color);\n",
              "    box-shadow: none;\n",
              "  }\n",
              "\n",
              "  .colab-df-spinner {\n",
              "    border: 2px solid var(--fill-color);\n",
              "    border-color: transparent;\n",
              "    border-bottom-color: var(--fill-color);\n",
              "    animation:\n",
              "      spin 1s steps(1) infinite;\n",
              "  }\n",
              "\n",
              "  @keyframes spin {\n",
              "    0% {\n",
              "      border-color: transparent;\n",
              "      border-bottom-color: var(--fill-color);\n",
              "      border-left-color: var(--fill-color);\n",
              "    }\n",
              "    20% {\n",
              "      border-color: transparent;\n",
              "      border-left-color: var(--fill-color);\n",
              "      border-top-color: var(--fill-color);\n",
              "    }\n",
              "    30% {\n",
              "      border-color: transparent;\n",
              "      border-left-color: var(--fill-color);\n",
              "      border-top-color: var(--fill-color);\n",
              "      border-right-color: var(--fill-color);\n",
              "    }\n",
              "    40% {\n",
              "      border-color: transparent;\n",
              "      border-right-color: var(--fill-color);\n",
              "      border-top-color: var(--fill-color);\n",
              "    }\n",
              "    60% {\n",
              "      border-color: transparent;\n",
              "      border-right-color: var(--fill-color);\n",
              "    }\n",
              "    80% {\n",
              "      border-color: transparent;\n",
              "      border-right-color: var(--fill-color);\n",
              "      border-bottom-color: var(--fill-color);\n",
              "    }\n",
              "    90% {\n",
              "      border-color: transparent;\n",
              "      border-bottom-color: var(--fill-color);\n",
              "    }\n",
              "  }\n",
              "</style>\n",
              "\n",
              "  <script>\n",
              "    async function quickchart(key) {\n",
              "      const quickchartButtonEl =\n",
              "        document.querySelector('#' + key + ' button');\n",
              "      quickchartButtonEl.disabled = true;  // To prevent multiple clicks.\n",
              "      quickchartButtonEl.classList.add('colab-df-spinner');\n",
              "      try {\n",
              "        const charts = await google.colab.kernel.invokeFunction(\n",
              "            'suggestCharts', [key], {});\n",
              "      } catch (error) {\n",
              "        console.error('Error during call to suggestCharts:', error);\n",
              "      }\n",
              "      quickchartButtonEl.classList.remove('colab-df-spinner');\n",
              "      quickchartButtonEl.classList.add('colab-df-quickchart-complete');\n",
              "    }\n",
              "    (() => {\n",
              "      let quickchartButtonEl =\n",
              "        document.querySelector('#df-8db4115c-33bd-46e9-8f22-4e44a9ca2bd7 button');\n",
              "      quickchartButtonEl.style.display =\n",
              "        google.colab.kernel.accessAllowed ? 'block' : 'none';\n",
              "    })();\n",
              "  </script>\n",
              "</div>\n",
              "\n",
              "    </div>\n",
              "  </div>\n"
            ],
            "application/vnd.google.colaboratory.intrinsic+json": {
              "type": "dataframe",
              "summary": "{\n  \"name\": \"data\",\n  \"rows\": 4,\n  \"fields\": [\n    {\n      \"column\": \"Gender\",\n      \"properties\": {\n        \"dtype\": \"string\",\n        \"num_unique_values\": 4,\n        \"samples\": [\n          2,\n          \"312\",\n          \"383\"\n        ],\n        \"semantic_type\": \"\",\n        \"description\": \"\"\n      }\n    },\n    {\n      \"column\": \"Smoking\",\n      \"properties\": {\n        \"dtype\": \"string\",\n        \"num_unique_values\": 4,\n        \"samples\": [\n          2,\n          \"334\",\n          \"383\"\n        ],\n        \"semantic_type\": \"\",\n        \"description\": \"\"\n      }\n    },\n    {\n      \"column\": \"Hx Smoking\",\n      \"properties\": {\n        \"dtype\": \"string\",\n        \"num_unique_values\": 4,\n        \"samples\": [\n          2,\n          \"355\",\n          \"383\"\n        ],\n        \"semantic_type\": \"\",\n        \"description\": \"\"\n      }\n    },\n    {\n      \"column\": \"Hx Radiothreapy\",\n      \"properties\": {\n        \"dtype\": \"string\",\n        \"num_unique_values\": 4,\n        \"samples\": [\n          2,\n          \"376\",\n          \"383\"\n        ],\n        \"semantic_type\": \"\",\n        \"description\": \"\"\n      }\n    },\n    {\n      \"column\": \"Thyroid Function\",\n      \"properties\": {\n        \"dtype\": \"string\",\n        \"num_unique_values\": 4,\n        \"samples\": [\n          5,\n          \"332\",\n          \"383\"\n        ],\n        \"semantic_type\": \"\",\n        \"description\": \"\"\n      }\n    },\n    {\n      \"column\": \"Physical Examination\",\n      \"properties\": {\n        \"dtype\": \"string\",\n        \"num_unique_values\": 4,\n        \"samples\": [\n          5,\n          \"140\",\n          \"383\"\n        ],\n        \"semantic_type\": \"\",\n        \"description\": \"\"\n      }\n    },\n    {\n      \"column\": \"Adenopathy\",\n      \"properties\": {\n        \"dtype\": \"string\",\n        \"num_unique_values\": 4,\n        \"samples\": [\n          6,\n          \"277\",\n          \"383\"\n        ],\n        \"semantic_type\": \"\",\n        \"description\": \"\"\n      }\n    },\n    {\n      \"column\": \"Pathology\",\n      \"properties\": {\n        \"dtype\": \"string\",\n        \"num_unique_values\": 4,\n        \"samples\": [\n          4,\n          \"287\",\n          \"383\"\n        ],\n        \"semantic_type\": \"\",\n        \"description\": \"\"\n      }\n    },\n    {\n      \"column\": \"Focality\",\n      \"properties\": {\n        \"dtype\": \"string\",\n        \"num_unique_values\": 4,\n        \"samples\": [\n          2,\n          \"247\",\n          \"383\"\n        ],\n        \"semantic_type\": \"\",\n        \"description\": \"\"\n      }\n    },\n    {\n      \"column\": \"Risk\",\n      \"properties\": {\n        \"dtype\": \"string\",\n        \"num_unique_values\": 4,\n        \"samples\": [\n          3,\n          \"249\",\n          \"383\"\n        ],\n        \"semantic_type\": \"\",\n        \"description\": \"\"\n      }\n    },\n    {\n      \"column\": \"T\",\n      \"properties\": {\n        \"dtype\": \"string\",\n        \"num_unique_values\": 4,\n        \"samples\": [\n          7,\n          \"151\",\n          \"383\"\n        ],\n        \"semantic_type\": \"\",\n        \"description\": \"\"\n      }\n    },\n    {\n      \"column\": \"N\",\n      \"properties\": {\n        \"dtype\": \"string\",\n        \"num_unique_values\": 4,\n        \"samples\": [\n          3,\n          \"268\",\n          \"383\"\n        ],\n        \"semantic_type\": \"\",\n        \"description\": \"\"\n      }\n    },\n    {\n      \"column\": \"M\",\n      \"properties\": {\n        \"dtype\": \"string\",\n        \"num_unique_values\": 4,\n        \"samples\": [\n          2,\n          \"365\",\n          \"383\"\n        ],\n        \"semantic_type\": \"\",\n        \"description\": \"\"\n      }\n    },\n    {\n      \"column\": \"Stage\",\n      \"properties\": {\n        \"dtype\": \"string\",\n        \"num_unique_values\": 4,\n        \"samples\": [\n          5,\n          \"333\",\n          \"383\"\n        ],\n        \"semantic_type\": \"\",\n        \"description\": \"\"\n      }\n    },\n    {\n      \"column\": \"Response\",\n      \"properties\": {\n        \"dtype\": \"string\",\n        \"num_unique_values\": 4,\n        \"samples\": [\n          4,\n          \"208\",\n          \"383\"\n        ],\n        \"semantic_type\": \"\",\n        \"description\": \"\"\n      }\n    },\n    {\n      \"column\": \"Recurred\",\n      \"properties\": {\n        \"dtype\": \"string\",\n        \"num_unique_values\": 4,\n        \"samples\": [\n          2,\n          \"275\",\n          \"383\"\n        ],\n        \"semantic_type\": \"\",\n        \"description\": \"\"\n      }\n    }\n  ]\n}"
            }
          },
          "metadata": {},
          "execution_count": 8
        }
      ],
      "source": [
        "data.describe(include=['O'])"
      ]
    },
    {
      "cell_type": "code",
      "execution_count": 9,
      "id": "504558cb",
      "metadata": {
        "execution": {
          "iopub.execute_input": "2024-05-25T00:52:44.093090Z",
          "iopub.status.busy": "2024-05-25T00:52:44.092212Z",
          "iopub.status.idle": "2024-05-25T00:52:44.098615Z",
          "shell.execute_reply": "2024-05-25T00:52:44.097918Z"
        },
        "papermill": {
          "duration": 0.014986,
          "end_time": "2024-05-25T00:52:44.100725",
          "exception": false,
          "start_time": "2024-05-25T00:52:44.085739",
          "status": "completed"
        },
        "tags": [],
        "id": "504558cb"
      },
      "outputs": [],
      "source": [
        "data['Recurred'] = data['Recurred'].map({'Yes': 1, 'No': 0}).astype(int)"
      ]
    },
    {
      "cell_type": "code",
      "execution_count": 10,
      "id": "073fdb6a",
      "metadata": {
        "execution": {
          "iopub.execute_input": "2024-05-25T00:52:44.113022Z",
          "iopub.status.busy": "2024-05-25T00:52:44.112324Z",
          "iopub.status.idle": "2024-05-25T00:52:44.124194Z",
          "shell.execute_reply": "2024-05-25T00:52:44.122504Z"
        },
        "papermill": {
          "duration": 0.020699,
          "end_time": "2024-05-25T00:52:44.126602",
          "exception": false,
          "start_time": "2024-05-25T00:52:44.105903",
          "status": "completed"
        },
        "tags": [],
        "colab": {
          "base_uri": "https://localhost:8080/"
        },
        "id": "073fdb6a",
        "outputId": "94f1d8bd-40ca-4cf5-a714-f2ea9ac78fe5"
      },
      "outputs": [
        {
          "output_type": "stream",
          "name": "stdout",
          "text": [
            "<class 'pandas.core.frame.DataFrame'>\n",
            "RangeIndex: 383 entries, 0 to 382\n",
            "Data columns (total 17 columns):\n",
            " #   Column                Non-Null Count  Dtype \n",
            "---  ------                --------------  ----- \n",
            " 0   Age                   383 non-null    int64 \n",
            " 1   Gender                383 non-null    object\n",
            " 2   Smoking               383 non-null    object\n",
            " 3   Hx Smoking            383 non-null    object\n",
            " 4   Hx Radiothreapy       383 non-null    object\n",
            " 5   Thyroid Function      383 non-null    object\n",
            " 6   Physical Examination  383 non-null    object\n",
            " 7   Adenopathy            383 non-null    object\n",
            " 8   Pathology             383 non-null    object\n",
            " 9   Focality              383 non-null    object\n",
            " 10  Risk                  383 non-null    object\n",
            " 11  T                     383 non-null    object\n",
            " 12  N                     383 non-null    object\n",
            " 13  M                     383 non-null    object\n",
            " 14  Stage                 383 non-null    object\n",
            " 15  Response              383 non-null    object\n",
            " 16  Recurred              383 non-null    int64 \n",
            "dtypes: int64(2), object(15)\n",
            "memory usage: 51.0+ KB\n"
          ]
        }
      ],
      "source": [
        "data.info()"
      ]
    },
    {
      "cell_type": "code",
      "execution_count": 11,
      "id": "a26c5433",
      "metadata": {
        "execution": {
          "iopub.execute_input": "2024-05-25T00:52:44.139382Z",
          "iopub.status.busy": "2024-05-25T00:52:44.138784Z",
          "iopub.status.idle": "2024-05-25T00:52:44.150692Z",
          "shell.execute_reply": "2024-05-25T00:52:44.149898Z"
        },
        "papermill": {
          "duration": 0.021077,
          "end_time": "2024-05-25T00:52:44.153025",
          "exception": false,
          "start_time": "2024-05-25T00:52:44.131948",
          "status": "completed"
        },
        "tags": [],
        "id": "a26c5433"
      },
      "outputs": [],
      "source": [
        "X_train, X_test, y_train, y_test = train_test_split(\n",
        "                                        data.drop(columns = 'Recurred'),\n",
        "                                        data['Recurred'],\n",
        "                                        random_state = 123\n",
        "                                    )"
      ]
    },
    {
      "cell_type": "code",
      "execution_count": 13,
      "id": "a7bb91ce",
      "metadata": {
        "execution": {
          "iopub.execute_input": "2024-05-25T00:52:44.166347Z",
          "iopub.status.busy": "2024-05-25T00:52:44.165755Z",
          "iopub.status.idle": "2024-05-25T00:52:44.172109Z",
          "shell.execute_reply": "2024-05-25T00:52:44.171258Z"
        },
        "papermill": {
          "duration": 0.01586,
          "end_time": "2024-05-25T00:52:44.174216",
          "exception": false,
          "start_time": "2024-05-25T00:52:44.158356",
          "status": "completed"
        },
        "tags": [],
        "id": "a7bb91ce"
      },
      "outputs": [],
      "source": [
        "cat_cols = X_train.select_dtypes(include=['object']).columns.to_list()\n",
        "numeric_cols = X_train.select_dtypes(include=['int']).columns.to_list()\n",
        "preprocessor = ColumnTransformer(\n",
        "                    [('onehot', OneHotEncoder(handle_unknown='ignore'), cat_cols)],\n",
        "                    remainder='passthrough'\n",
        "               )"
      ]
    },
    {
      "cell_type": "code",
      "execution_count": 14,
      "id": "267cf3ac",
      "metadata": {
        "execution": {
          "iopub.execute_input": "2024-05-25T00:52:44.187000Z",
          "iopub.status.busy": "2024-05-25T00:52:44.186379Z",
          "iopub.status.idle": "2024-05-25T00:52:44.222110Z",
          "shell.execute_reply": "2024-05-25T00:52:44.219003Z"
        },
        "papermill": {
          "duration": 0.044976,
          "end_time": "2024-05-25T00:52:44.224521",
          "exception": false,
          "start_time": "2024-05-25T00:52:44.179545",
          "status": "completed"
        },
        "tags": [],
        "id": "267cf3ac"
      },
      "outputs": [],
      "source": [
        "X_train_prep = preprocessor.fit_transform(X_train)\n",
        "X_test_prep  = preprocessor.transform(X_test)"
      ]
    },
    {
      "cell_type": "code",
      "execution_count": 15,
      "id": "0e7251d6",
      "metadata": {
        "execution": {
          "iopub.execute_input": "2024-05-25T00:52:44.238199Z",
          "iopub.status.busy": "2024-05-25T00:52:44.237822Z",
          "iopub.status.idle": "2024-05-25T00:52:58.821266Z",
          "shell.execute_reply": "2024-05-25T00:52:58.819970Z"
        },
        "papermill": {
          "duration": 14.593485,
          "end_time": "2024-05-25T00:52:58.824131",
          "exception": false,
          "start_time": "2024-05-25T00:52:44.230646",
          "status": "completed"
        },
        "tags": [],
        "colab": {
          "base_uri": "https://localhost:8080/",
          "height": 259
        },
        "id": "0e7251d6",
        "outputId": "10653c4d-144c-4b44-9c1f-799be7be7b66"
      },
      "outputs": [
        {
          "output_type": "stream",
          "name": "stderr",
          "text": [
            "<frozen importlib._bootstrap>:914: ImportWarning: _PyDrive2ImportHook.find_spec() not found; falling back to find_module()\n",
            "<frozen importlib._bootstrap>:914: ImportWarning: _PyDriveImportHook.find_spec() not found; falling back to find_module()\n",
            "<frozen importlib._bootstrap>:914: ImportWarning: _GenerativeAIImportHook.find_spec() not found; falling back to find_module()\n",
            "<frozen importlib._bootstrap>:914: ImportWarning: _OpenCVImportHook.find_spec() not found; falling back to find_module()\n",
            "<frozen importlib._bootstrap>:914: ImportWarning: APICoreClientInfoImportHook.find_spec() not found; falling back to find_module()\n",
            "<frozen importlib._bootstrap>:914: ImportWarning: _BokehImportHook.find_spec() not found; falling back to find_module()\n",
            "<frozen importlib._bootstrap>:914: ImportWarning: _AltairImportHook.find_spec() not found; falling back to find_module()\n"
          ]
        },
        {
          "output_type": "execute_result",
          "data": {
            "text/plain": [
              "RandomizedSearchCV(cv=5, estimator=RandomForestClassifier(), n_iter=5,\n",
              "                   param_distributions={'max_depth': <scipy.stats._distn_infrastructure.rv_discrete_frozen object at 0x78a1acae2260>,\n",
              "                                        'n_estimators': <scipy.stats._distn_infrastructure.rv_discrete_frozen object at 0x78a1acae34c0>})"
            ],
            "text/html": [
              "<style>#sk-container-id-1 {color: black;background-color: white;}#sk-container-id-1 pre{padding: 0;}#sk-container-id-1 div.sk-toggleable {background-color: white;}#sk-container-id-1 label.sk-toggleable__label {cursor: pointer;display: block;width: 100%;margin-bottom: 0;padding: 0.3em;box-sizing: border-box;text-align: center;}#sk-container-id-1 label.sk-toggleable__label-arrow:before {content: \"▸\";float: left;margin-right: 0.25em;color: #696969;}#sk-container-id-1 label.sk-toggleable__label-arrow:hover:before {color: black;}#sk-container-id-1 div.sk-estimator:hover label.sk-toggleable__label-arrow:before {color: black;}#sk-container-id-1 div.sk-toggleable__content {max-height: 0;max-width: 0;overflow: hidden;text-align: left;background-color: #f0f8ff;}#sk-container-id-1 div.sk-toggleable__content pre {margin: 0.2em;color: black;border-radius: 0.25em;background-color: #f0f8ff;}#sk-container-id-1 input.sk-toggleable__control:checked~div.sk-toggleable__content {max-height: 200px;max-width: 100%;overflow: auto;}#sk-container-id-1 input.sk-toggleable__control:checked~label.sk-toggleable__label-arrow:before {content: \"▾\";}#sk-container-id-1 div.sk-estimator input.sk-toggleable__control:checked~label.sk-toggleable__label {background-color: #d4ebff;}#sk-container-id-1 div.sk-label input.sk-toggleable__control:checked~label.sk-toggleable__label {background-color: #d4ebff;}#sk-container-id-1 input.sk-hidden--visually {border: 0;clip: rect(1px 1px 1px 1px);clip: rect(1px, 1px, 1px, 1px);height: 1px;margin: -1px;overflow: hidden;padding: 0;position: absolute;width: 1px;}#sk-container-id-1 div.sk-estimator {font-family: monospace;background-color: #f0f8ff;border: 1px dotted black;border-radius: 0.25em;box-sizing: border-box;margin-bottom: 0.5em;}#sk-container-id-1 div.sk-estimator:hover {background-color: #d4ebff;}#sk-container-id-1 div.sk-parallel-item::after {content: \"\";width: 100%;border-bottom: 1px solid gray;flex-grow: 1;}#sk-container-id-1 div.sk-label:hover label.sk-toggleable__label {background-color: #d4ebff;}#sk-container-id-1 div.sk-serial::before {content: \"\";position: absolute;border-left: 1px solid gray;box-sizing: border-box;top: 0;bottom: 0;left: 50%;z-index: 0;}#sk-container-id-1 div.sk-serial {display: flex;flex-direction: column;align-items: center;background-color: white;padding-right: 0.2em;padding-left: 0.2em;position: relative;}#sk-container-id-1 div.sk-item {position: relative;z-index: 1;}#sk-container-id-1 div.sk-parallel {display: flex;align-items: stretch;justify-content: center;background-color: white;position: relative;}#sk-container-id-1 div.sk-item::before, #sk-container-id-1 div.sk-parallel-item::before {content: \"\";position: absolute;border-left: 1px solid gray;box-sizing: border-box;top: 0;bottom: 0;left: 50%;z-index: -1;}#sk-container-id-1 div.sk-parallel-item {display: flex;flex-direction: column;z-index: 1;position: relative;background-color: white;}#sk-container-id-1 div.sk-parallel-item:first-child::after {align-self: flex-end;width: 50%;}#sk-container-id-1 div.sk-parallel-item:last-child::after {align-self: flex-start;width: 50%;}#sk-container-id-1 div.sk-parallel-item:only-child::after {width: 0;}#sk-container-id-1 div.sk-dashed-wrapped {border: 1px dashed gray;margin: 0 0.4em 0.5em 0.4em;box-sizing: border-box;padding-bottom: 0.4em;background-color: white;}#sk-container-id-1 div.sk-label label {font-family: monospace;font-weight: bold;display: inline-block;line-height: 1.2em;}#sk-container-id-1 div.sk-label-container {text-align: center;}#sk-container-id-1 div.sk-container {/* jupyter's `normalize.less` sets `[hidden] { display: none; }` but bootstrap.min.css set `[hidden] { display: none !important; }` so we also need the `!important` here to be able to override the default hidden behavior on the sphinx rendered scikit-learn.org. See: https://github.com/scikit-learn/scikit-learn/issues/21755 */display: inline-block !important;position: relative;}#sk-container-id-1 div.sk-text-repr-fallback {display: none;}</style><div id=\"sk-container-id-1\" class=\"sk-top-container\"><div class=\"sk-text-repr-fallback\"><pre>RandomizedSearchCV(cv=5, estimator=RandomForestClassifier(), n_iter=5,\n",
              "                   param_distributions={&#x27;max_depth&#x27;: &lt;scipy.stats._distn_infrastructure.rv_discrete_frozen object at 0x78a1acae2260&gt;,\n",
              "                                        &#x27;n_estimators&#x27;: &lt;scipy.stats._distn_infrastructure.rv_discrete_frozen object at 0x78a1acae34c0&gt;})</pre><b>In a Jupyter environment, please rerun this cell to show the HTML representation or trust the notebook. <br />On GitHub, the HTML representation is unable to render, please try loading this page with nbviewer.org.</b></div><div class=\"sk-container\" hidden><div class=\"sk-item sk-dashed-wrapped\"><div class=\"sk-label-container\"><div class=\"sk-label sk-toggleable\"><input class=\"sk-toggleable__control sk-hidden--visually\" id=\"sk-estimator-id-1\" type=\"checkbox\" ><label for=\"sk-estimator-id-1\" class=\"sk-toggleable__label sk-toggleable__label-arrow\">RandomizedSearchCV</label><div class=\"sk-toggleable__content\"><pre>RandomizedSearchCV(cv=5, estimator=RandomForestClassifier(), n_iter=5,\n",
              "                   param_distributions={&#x27;max_depth&#x27;: &lt;scipy.stats._distn_infrastructure.rv_discrete_frozen object at 0x78a1acae2260&gt;,\n",
              "                                        &#x27;n_estimators&#x27;: &lt;scipy.stats._distn_infrastructure.rv_discrete_frozen object at 0x78a1acae34c0&gt;})</pre></div></div></div><div class=\"sk-parallel\"><div class=\"sk-parallel-item\"><div class=\"sk-item\"><div class=\"sk-label-container\"><div class=\"sk-label sk-toggleable\"><input class=\"sk-toggleable__control sk-hidden--visually\" id=\"sk-estimator-id-2\" type=\"checkbox\" ><label for=\"sk-estimator-id-2\" class=\"sk-toggleable__label sk-toggleable__label-arrow\">estimator: RandomForestClassifier</label><div class=\"sk-toggleable__content\"><pre>RandomForestClassifier()</pre></div></div></div><div class=\"sk-serial\"><div class=\"sk-item\"><div class=\"sk-estimator sk-toggleable\"><input class=\"sk-toggleable__control sk-hidden--visually\" id=\"sk-estimator-id-3\" type=\"checkbox\" ><label for=\"sk-estimator-id-3\" class=\"sk-toggleable__label sk-toggleable__label-arrow\">RandomForestClassifier</label><div class=\"sk-toggleable__content\"><pre>RandomForestClassifier()</pre></div></div></div></div></div></div></div></div></div></div>"
            ]
          },
          "metadata": {},
          "execution_count": 15
        }
      ],
      "source": [
        "param_dist = {'n_estimators': randint(50,500),\n",
        "              'max_depth': randint(1,20)}\n",
        "rf = RandomForestClassifier()\n",
        "rand_search = RandomizedSearchCV(rf,\n",
        "                                 param_distributions = param_dist,\n",
        "                                 n_iter=5,\n",
        "                                 cv=5)\n",
        "\n",
        "rand_search.fit(X_train_prep, y_train)"
      ]
    },
    {
      "cell_type": "code",
      "execution_count": 16,
      "id": "20f2fa49",
      "metadata": {
        "execution": {
          "iopub.execute_input": "2024-05-25T00:52:58.842965Z",
          "iopub.status.busy": "2024-05-25T00:52:58.842564Z",
          "iopub.status.idle": "2024-05-25T00:52:58.850593Z",
          "shell.execute_reply": "2024-05-25T00:52:58.849324Z"
        },
        "papermill": {
          "duration": 0.019936,
          "end_time": "2024-05-25T00:52:58.853192",
          "exception": false,
          "start_time": "2024-05-25T00:52:58.833256",
          "status": "completed"
        },
        "tags": [],
        "colab": {
          "base_uri": "https://localhost:8080/"
        },
        "id": "20f2fa49",
        "outputId": "cd8f10d0-66ff-4dfb-f4ee-ae11597c4b8e"
      },
      "outputs": [
        {
          "output_type": "stream",
          "name": "stdout",
          "text": [
            "Best hyperparameters: {'max_depth': 18, 'n_estimators': 213}\n"
          ]
        }
      ],
      "source": [
        "best_rf = rand_search.best_estimator_\n",
        "\n",
        "print('Best hyperparameters:',  rand_search.best_params_)"
      ]
    },
    {
      "cell_type": "code",
      "execution_count": 17,
      "id": "ba20ef37",
      "metadata": {
        "execution": {
          "iopub.execute_input": "2024-05-25T00:52:58.871480Z",
          "iopub.status.busy": "2024-05-25T00:52:58.870745Z",
          "iopub.status.idle": "2024-05-25T00:52:59.070622Z",
          "shell.execute_reply": "2024-05-25T00:52:59.069546Z"
        },
        "papermill": {
          "duration": 0.212105,
          "end_time": "2024-05-25T00:52:59.073554",
          "exception": false,
          "start_time": "2024-05-25T00:52:58.861449",
          "status": "completed"
        },
        "tags": [],
        "colab": {
          "base_uri": "https://localhost:8080/",
          "height": 75
        },
        "id": "ba20ef37",
        "outputId": "f371dbec-042a-4389-ad50-9d347f292898"
      },
      "outputs": [
        {
          "output_type": "execute_result",
          "data": {
            "text/plain": [
              "RandomForestClassifier()"
            ],
            "text/html": [
              "<style>#sk-container-id-2 {color: black;background-color: white;}#sk-container-id-2 pre{padding: 0;}#sk-container-id-2 div.sk-toggleable {background-color: white;}#sk-container-id-2 label.sk-toggleable__label {cursor: pointer;display: block;width: 100%;margin-bottom: 0;padding: 0.3em;box-sizing: border-box;text-align: center;}#sk-container-id-2 label.sk-toggleable__label-arrow:before {content: \"▸\";float: left;margin-right: 0.25em;color: #696969;}#sk-container-id-2 label.sk-toggleable__label-arrow:hover:before {color: black;}#sk-container-id-2 div.sk-estimator:hover label.sk-toggleable__label-arrow:before {color: black;}#sk-container-id-2 div.sk-toggleable__content {max-height: 0;max-width: 0;overflow: hidden;text-align: left;background-color: #f0f8ff;}#sk-container-id-2 div.sk-toggleable__content pre {margin: 0.2em;color: black;border-radius: 0.25em;background-color: #f0f8ff;}#sk-container-id-2 input.sk-toggleable__control:checked~div.sk-toggleable__content {max-height: 200px;max-width: 100%;overflow: auto;}#sk-container-id-2 input.sk-toggleable__control:checked~label.sk-toggleable__label-arrow:before {content: \"▾\";}#sk-container-id-2 div.sk-estimator input.sk-toggleable__control:checked~label.sk-toggleable__label {background-color: #d4ebff;}#sk-container-id-2 div.sk-label input.sk-toggleable__control:checked~label.sk-toggleable__label {background-color: #d4ebff;}#sk-container-id-2 input.sk-hidden--visually {border: 0;clip: rect(1px 1px 1px 1px);clip: rect(1px, 1px, 1px, 1px);height: 1px;margin: -1px;overflow: hidden;padding: 0;position: absolute;width: 1px;}#sk-container-id-2 div.sk-estimator {font-family: monospace;background-color: #f0f8ff;border: 1px dotted black;border-radius: 0.25em;box-sizing: border-box;margin-bottom: 0.5em;}#sk-container-id-2 div.sk-estimator:hover {background-color: #d4ebff;}#sk-container-id-2 div.sk-parallel-item::after {content: \"\";width: 100%;border-bottom: 1px solid gray;flex-grow: 1;}#sk-container-id-2 div.sk-label:hover label.sk-toggleable__label {background-color: #d4ebff;}#sk-container-id-2 div.sk-serial::before {content: \"\";position: absolute;border-left: 1px solid gray;box-sizing: border-box;top: 0;bottom: 0;left: 50%;z-index: 0;}#sk-container-id-2 div.sk-serial {display: flex;flex-direction: column;align-items: center;background-color: white;padding-right: 0.2em;padding-left: 0.2em;position: relative;}#sk-container-id-2 div.sk-item {position: relative;z-index: 1;}#sk-container-id-2 div.sk-parallel {display: flex;align-items: stretch;justify-content: center;background-color: white;position: relative;}#sk-container-id-2 div.sk-item::before, #sk-container-id-2 div.sk-parallel-item::before {content: \"\";position: absolute;border-left: 1px solid gray;box-sizing: border-box;top: 0;bottom: 0;left: 50%;z-index: -1;}#sk-container-id-2 div.sk-parallel-item {display: flex;flex-direction: column;z-index: 1;position: relative;background-color: white;}#sk-container-id-2 div.sk-parallel-item:first-child::after {align-self: flex-end;width: 50%;}#sk-container-id-2 div.sk-parallel-item:last-child::after {align-self: flex-start;width: 50%;}#sk-container-id-2 div.sk-parallel-item:only-child::after {width: 0;}#sk-container-id-2 div.sk-dashed-wrapped {border: 1px dashed gray;margin: 0 0.4em 0.5em 0.4em;box-sizing: border-box;padding-bottom: 0.4em;background-color: white;}#sk-container-id-2 div.sk-label label {font-family: monospace;font-weight: bold;display: inline-block;line-height: 1.2em;}#sk-container-id-2 div.sk-label-container {text-align: center;}#sk-container-id-2 div.sk-container {/* jupyter's `normalize.less` sets `[hidden] { display: none; }` but bootstrap.min.css set `[hidden] { display: none !important; }` so we also need the `!important` here to be able to override the default hidden behavior on the sphinx rendered scikit-learn.org. See: https://github.com/scikit-learn/scikit-learn/issues/21755 */display: inline-block !important;position: relative;}#sk-container-id-2 div.sk-text-repr-fallback {display: none;}</style><div id=\"sk-container-id-2\" class=\"sk-top-container\"><div class=\"sk-text-repr-fallback\"><pre>RandomForestClassifier()</pre><b>In a Jupyter environment, please rerun this cell to show the HTML representation or trust the notebook. <br />On GitHub, the HTML representation is unable to render, please try loading this page with nbviewer.org.</b></div><div class=\"sk-container\" hidden><div class=\"sk-item\"><div class=\"sk-estimator sk-toggleable\"><input class=\"sk-toggleable__control sk-hidden--visually\" id=\"sk-estimator-id-4\" type=\"checkbox\" checked><label for=\"sk-estimator-id-4\" class=\"sk-toggleable__label sk-toggleable__label-arrow\">RandomForestClassifier</label><div class=\"sk-toggleable__content\"><pre>RandomForestClassifier()</pre></div></div></div></div></div>"
            ]
          },
          "metadata": {},
          "execution_count": 17
        }
      ],
      "source": [
        "rf = RandomForestClassifier()\n",
        "rf.fit(X_train_prep, y_train)"
      ]
    },
    {
      "cell_type": "code",
      "execution_count": 18,
      "id": "b640bc20",
      "metadata": {
        "execution": {
          "iopub.execute_input": "2024-05-25T00:52:59.094357Z",
          "iopub.status.busy": "2024-05-25T00:52:59.093592Z",
          "iopub.status.idle": "2024-05-25T00:52:59.105967Z",
          "shell.execute_reply": "2024-05-25T00:52:59.104993Z"
        },
        "papermill": {
          "duration": 0.02519,
          "end_time": "2024-05-25T00:52:59.108367",
          "exception": false,
          "start_time": "2024-05-25T00:52:59.083177",
          "status": "completed"
        },
        "tags": [],
        "id": "b640bc20"
      },
      "outputs": [],
      "source": [
        "y_pred = rf.predict(X_test_prep)"
      ]
    },
    {
      "cell_type": "code",
      "execution_count": 19,
      "id": "3ddcaddb",
      "metadata": {
        "execution": {
          "iopub.execute_input": "2024-05-25T00:52:59.127497Z",
          "iopub.status.busy": "2024-05-25T00:52:59.126817Z",
          "iopub.status.idle": "2024-05-25T00:52:59.135018Z",
          "shell.execute_reply": "2024-05-25T00:52:59.133712Z"
        },
        "papermill": {
          "duration": 0.020877,
          "end_time": "2024-05-25T00:52:59.137539",
          "exception": false,
          "start_time": "2024-05-25T00:52:59.116662",
          "status": "completed"
        },
        "tags": [],
        "colab": {
          "base_uri": "https://localhost:8080/"
        },
        "id": "3ddcaddb",
        "outputId": "f3dcfb63-42d8-438c-81d9-390f38d00958"
      },
      "outputs": [
        {
          "output_type": "stream",
          "name": "stdout",
          "text": [
            "Accuracy: 0.9791666666666666\n"
          ]
        }
      ],
      "source": [
        "accuracy = accuracy_score(y_test, y_pred)\n",
        "print(\"Accuracy:\", accuracy)"
      ]
    },
    {
      "cell_type": "code",
      "execution_count": 20,
      "id": "17f1910f",
      "metadata": {
        "execution": {
          "iopub.execute_input": "2024-05-25T00:52:59.166467Z",
          "iopub.status.busy": "2024-05-25T00:52:59.166002Z",
          "iopub.status.idle": "2024-05-25T00:52:59.526212Z",
          "shell.execute_reply": "2024-05-25T00:52:59.525155Z"
        },
        "papermill": {
          "duration": 0.376853,
          "end_time": "2024-05-25T00:52:59.528316",
          "exception": false,
          "start_time": "2024-05-25T00:52:59.151463",
          "status": "completed"
        },
        "tags": [],
        "colab": {
          "base_uri": "https://localhost:8080/",
          "height": 592
        },
        "id": "17f1910f",
        "outputId": "1350547e-8cb7-47bc-d00d-2200fd2981ab"
      },
      "outputs": [
        {
          "output_type": "stream",
          "name": "stderr",
          "text": [
            "<frozen importlib._bootstrap>:914: ImportWarning: _PyDrive2ImportHook.find_spec() not found; falling back to find_module()\n",
            "<frozen importlib._bootstrap>:914: ImportWarning: _PyDriveImportHook.find_spec() not found; falling back to find_module()\n",
            "<frozen importlib._bootstrap>:914: ImportWarning: _GenerativeAIImportHook.find_spec() not found; falling back to find_module()\n",
            "<frozen importlib._bootstrap>:914: ImportWarning: _OpenCVImportHook.find_spec() not found; falling back to find_module()\n",
            "<frozen importlib._bootstrap>:914: ImportWarning: APICoreClientInfoImportHook.find_spec() not found; falling back to find_module()\n",
            "<frozen importlib._bootstrap>:914: ImportWarning: _BokehImportHook.find_spec() not found; falling back to find_module()\n",
            "<frozen importlib._bootstrap>:914: ImportWarning: _AltairImportHook.find_spec() not found; falling back to find_module()\n"
          ]
        },
        {
          "output_type": "display_data",
          "data": {
            "text/plain": [
              "<Figure size 640x480 with 2 Axes>"
            ],
            "image/png": "[encoded data removed]"
          },
          "metadata": {}
        }
      ],
      "source": [
        "y_pred = best_rf.predict(X_test_prep)\n",
        "cm = confusion_matrix(y_test, y_pred)\n",
        "\n",
        "ConfusionMatrixDisplay(confusion_matrix=cm).plot();"
      ]
    },
    {
      "cell_type": "code",
      "execution_count": null,
      "id": "475beffc",
      "metadata": {
        "papermill": {
          "duration": 0.008432,
          "end_time": "2024-05-25T00:52:59.545572",
          "exception": false,
          "start_time": "2024-05-25T00:52:59.537140",
          "status": "completed"
        },
        "tags": [],
        "id": "475beffc"
      },
      "outputs": [],
      "source": []
    }
  ],
  "metadata": {
    "kaggle": {
      "accelerator": "none",
      "dataSources": [
        {
          "datasetId": 5017870,
          "sourceId": 8427001,
          "sourceType": "datasetVersion"
        }
      ],
      "dockerImageVersionId": 30698,
      "isGpuEnabled": false,
      "isInternetEnabled": true,
      "language": "python",
      "sourceType": "notebook"
    },
    "kernelspec": {
      "display_name": "Python 3",
      "language": "python",
      "name": "python3"
    },
    "language_info": {
      "codemirror_mode": {
        "name": "ipython",
        "version": 3
      },
      "file_extension": ".py",
      "mimetype": "text/x-python",
      "name": "python",
      "nbconvert_exporter": "python",
      "pygments_lexer": "ipython3",
      "version": "3.10.13"
    },
    "papermill": {
      "default_parameters": {},
      "duration": 22.939513,
      "end_time": "2024-05-25T00:53:00.178433",
      "environment_variables": {},
      "exception": null,
      "input_path": "__notebook__.ipynb",
      "output_path": "__notebook__.ipynb",
      "parameters": {},
      "start_time": "2024-05-25T00:52:37.238920",
      "version": "2.5.0"
    },
    "colab": {
      "provenance": []
    }
  },
  "nbformat": 4,
  "nbformat_minor": 5
}